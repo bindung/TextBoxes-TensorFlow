{
 "cells": [
  {
   "cell_type": "markdown",
   "metadata": {},
   "source": [
    "# Test the tfrecord and provider for ICDAR_test (latest)"
   ]
  },
  {
   "cell_type": "code",
   "execution_count": null,
   "metadata": {},
   "outputs": [],
   "source": [
    "# Transform the images and ground truth file into tfrecord\n",
    "# Use slim to write the provider\n",
    "# Use slim provider to load the data\n",
    "import tensorflow as tf\n",
    "import sys\n",
    "sys.path.insert(0,'/Users/kiyoshi/Desktop/Research/LAB/FirstAccessment/2ndPaper/Textbox-Tensor/')\n",
    "from datasets_test import ICDAR2013_Provider\n",
    "import skimage.io as skio\n",
    "import cv2\n",
    "import numpy as np\n",
    "#tf._version_\n",
    "slim = tf.contrib.slim"
   ]
  },
  {
   "cell_type": "code",
   "execution_count": null,
   "metadata": {},
   "outputs": [],
   "source": [
    "with tf.Graph().as_default():\n",
    "    dataset = ICDAR2013_Provider.get_datasets('/Users/kiyoshi/Desktop/Research/LAB/FirstAccessment/2ndPaper/Textbox-Tensor/datasets_test/',file_pattern='*.tfrecord')\n",
    "\n",
    "    data_provider = slim.dataset_data_provider.DatasetDataProvider(dataset, common_queue_capacity=32, common_queue_min=2)\n",
    "\n",
    "    [image, shape, glabels, gbboxes,height,width] = \\\n",
    "    data_provider.get(['image', 'shape',\n",
    "                    'object/label',\n",
    "                    'object/bbox','height','width'])\n",
    "    \n",
    "    image = tf.cast(image, tf.float32) \n",
    "    bbox_image = tf.image.draw_bounding_boxes(tf.expand_dims(image,0), tf.expand_dims(gbboxes,0))\n",
    "    \n",
    "    with tf.Session() as sess:\n",
    "        sess.run(tf.global_variables_initializer())\n",
    "        with slim.queues.QueueRunners(sess):\n",
    "            for i in xrange(2):\n",
    "                img, shape_, glabels_, bbox_,bbox_image_ = \\\n",
    "                sess.run([image, shape, glabels, gbboxes,bbox_image])\n",
    "                skio.imshow(np.uint8(bbox_image_[0,:,:,:])*255)\n",
    "                skio.show()"
   ]
  },
  {
   "cell_type": "code",
   "execution_count": null,
   "metadata": {},
   "outputs": [],
   "source": [
    "numofbox = bbox_.shape[0]\n",
    "bboxes = bbox_\n",
    "numofbox"
   ]
  },
  {
   "cell_type": "code",
   "execution_count": null,
   "metadata": {},
   "outputs": [],
   "source": [
    "img.shape"
   ]
  },
  {
   "cell_type": "code",
   "execution_count": null,
   "metadata": {},
   "outputs": [],
   "source": [
    "bboxes"
   ]
  },
  {
   "cell_type": "code",
   "execution_count": null,
   "metadata": {},
   "outputs": [],
   "source": [
    "xmin = [int(i ) for i in bboxes[:,0]]\n",
    "xmin"
   ]
  },
  {
   "cell_type": "code",
   "execution_count": null,
   "metadata": {},
   "outputs": [],
   "source": [
    "#numofbox = bbox_.shape[0]\n",
    "#bboxes = bbox_\n",
    "xmin = bboxes[:,0]\n",
    "ymin = bboxes[:,1]\n",
    "xmax = bboxes[:,2]\n",
    "ymax = bboxes[:,3]"
   ]
  },
  {
   "cell_type": "code",
   "execution_count": null,
   "metadata": {},
   "outputs": [],
   "source": [
    "print xmin\n",
    "print ymin\n",
    "print xmax\n",
    "print ymax"
   ]
  },
  {
   "cell_type": "code",
   "execution_count": null,
   "metadata": {},
   "outputs": [],
   "source": [
    "xmin_origin = xmin * img.shape[1]\n",
    "ymin_origin = ymin * img.shape[0]\n",
    "xmax_origin = xmax * img.shape[1]\n",
    "ymax_origin = ymax * img.shape[0]\n",
    "\n",
    "print xmin_origin\n",
    "print ymin_origin\n",
    "print xmax_origin\n",
    "print ymax_origin"
   ]
  },
  {
   "cell_type": "code",
   "execution_count": null,
   "metadata": {},
   "outputs": [],
   "source": [
    "for i in range(numofbox):\n",
    "    dst_image = cv2.rectangle(np.uint8(img),(xmin_origin[i],ymin_origin[i]),\n",
    "                         (xmax_origin[i],ymax_origin[i]),(255,0,0))\n",
    "\n",
    "skio.imshow(dst_image)\n",
    "skio.show()"
   ]
  },
  {
   "cell_type": "code",
   "execution_count": null,
   "metadata": {},
   "outputs": [],
   "source": []
  }
 ],
 "metadata": {
  "kernelspec": {
   "display_name": "Python 2",
   "language": "python",
   "name": "python2"
  },
  "language_info": {
   "codemirror_mode": {
    "name": "ipython",
    "version": 2
   },
   "file_extension": ".py",
   "mimetype": "text/x-python",
   "name": "python",
   "nbconvert_exporter": "python",
   "pygments_lexer": "ipython2"
  }
 },
 "nbformat": 4,
 "nbformat_minor": 2
}
